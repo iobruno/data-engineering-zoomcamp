{
 "cells": [
  {
   "cell_type": "code",
   "execution_count": 1,
   "id": "6e91e77d-a8d8-4fa1-a816-da3d30c48de0",
   "metadata": {},
   "outputs": [],
   "source": [
    "import dlt\n",
    "import pandas as pd"
   ]
  },
  {
   "cell_type": "markdown",
   "id": "8b4e3520-b03f-4ac6-b586-251645f07268",
   "metadata": {},
   "source": [
    "### Prototype to Load DataFrames to BQ with DLT"
   ]
  },
  {
   "cell_type": "markdown",
   "id": "e2d2baec-1a1f-4f1f-b65b-7bc5217f2849",
   "metadata": {},
   "source": [
    "Make sure the 'GOOGLE_APPLICATION_CREDENTIALS' env var is properly set"
   ]
  },
  {
   "cell_type": "code",
   "execution_count": 2,
   "id": "75682217-d11c-4c48-ab3c-f26457d9a6f1",
   "metadata": {},
   "outputs": [],
   "source": [
    "def fhv_taxi_schema():\n",
    "    return {\n",
    "        'dispatching_base_num': 'string',\n",
    "        'pickup_datetime': 'datetime64[s]',\n",
    "        'dropOff_datetime': 'datetime64[s]',\n",
    "        'PUlocationID': 'Int64',\n",
    "        'DOlocationID': 'Int64',\n",
    "        'SR_Flag': 'string',\n",
    "        'Affiliated_base_number': 'string',\n",
    "    }"
   ]
  },
  {
   "cell_type": "code",
   "execution_count": 3,
   "id": "58058763-c3b4-44a4-8caf-4eb0b3c00533",
   "metadata": {},
   "outputs": [],
   "source": [
    "def fhv_taxi_rename_strategy():\n",
    "    return {\n",
    "        'dispatching_base_num': 'dispatching_base_num',\n",
    "        'pickup_datetime': 'pickup_datetime',\n",
    "        'dropOff_datetime': 'dropoff_datetime',\n",
    "        'PUlocationID': 'pu_location_id',\n",
    "        'DOlocationID': 'do_location_id',\n",
    "        'SR_Flag': 'sr_flag',\n",
    "        'Affiliated_base_number': 'affiliated_base_number',\n",
    "    }"
   ]
  },
  {
   "cell_type": "code",
   "execution_count": 4,
   "id": "197bb9f6-a843-47cd-af21-b5fe73bbb767",
   "metadata": {},
   "outputs": [],
   "source": [
    "fhv_endpoints = [\n",
    "    \"https://github.com/DataTalksClub/nyc-tlc-data/releases/download/fhv/fhv_tripdata_2019-01.csv.gz\",\n",
    "    \"https://github.com/DataTalksClub/nyc-tlc-data/releases/download/fhv/fhv_tripdata_2019-02.csv.gz\",\n",
    "    \"https://github.com/DataTalksClub/nyc-tlc-data/releases/download/fhv/fhv_tripdata_2019-03.csv.gz\",\n",
    "    \"https://github.com/DataTalksClub/nyc-tlc-data/releases/download/fhv/fhv_tripdata_2019-04.csv.gz\",\n",
    "    \"https://github.com/DataTalksClub/nyc-tlc-data/releases/download/fhv/fhv_tripdata_2019-05.csv.gz\",\n",
    "    \"https://github.com/DataTalksClub/nyc-tlc-data/releases/download/fhv/fhv_tripdata_2019-06.csv.gz\",\n",
    "    \"https://github.com/DataTalksClub/nyc-tlc-data/releases/download/fhv/fhv_tripdata_2019-07.csv.gz\",\n",
    "    \"https://github.com/DataTalksClub/nyc-tlc-data/releases/download/fhv/fhv_tripdata_2019-08.csv.gz\",\n",
    "    \"https://github.com/DataTalksClub/nyc-tlc-data/releases/download/fhv/fhv_tripdata_2019-09.csv.gz\",\n",
    "    \"https://github.com/DataTalksClub/nyc-tlc-data/releases/download/fhv/fhv_tripdata_2019-10.csv.gz\",\n",
    "    \"https://github.com/DataTalksClub/nyc-tlc-data/releases/download/fhv/fhv_tripdata_2019-11.csv.gz\",\n",
    "    \"https://github.com/DataTalksClub/nyc-tlc-data/releases/download/fhv/fhv_tripdata_2019-12.csv.gz\",\n",
    "]"
   ]
  },
  {
   "cell_type": "code",
   "execution_count": 5,
   "id": "ade441ab-4c65-408f-840a-5413b1e1df66",
   "metadata": {},
   "outputs": [],
   "source": [
    "def fetch_dataset_from(url: str):\n",
    "    return pd\\\n",
    "        .read_csv(url, engine='pyarrow', dtype=fhv_taxi_schema())\\\n",
    "        .rename(columns=fhv_taxi_rename_strategy())"
   ]
  },
  {
   "cell_type": "code",
   "execution_count": 6,
   "id": "19e12aa9-9476-4ffd-a402-51c402d28e18",
   "metadata": {},
   "outputs": [],
   "source": [
    "def fetch_fhv_dataset():\n",
    "    for endpoint in fhv_endpoints:\n",
    "        yield fetch_dataset_from(endpoint)"
   ]
  },
  {
   "cell_type": "code",
   "execution_count": 7,
   "id": "64b65ec8-ae2e-4a41-93f6-57a2f4339cb5",
   "metadata": {},
   "outputs": [],
   "source": [
    "pipeline = dlt.pipeline(\n",
    "    pipeline_name='web_csv_to_bq',\n",
    "    destination=dlt.destinations.bigquery,\n",
    "    dataset_name='dlt',\n",
    ")"
   ]
  },
  {
   "cell_type": "code",
   "execution_count": 8,
   "id": "77584a21-1242-42f4-9982-866dc446f54f",
   "metadata": {},
   "outputs": [
    {
     "data": {
      "text/plain": [
       "LoadInfo(pipeline=<dlt.pipeline.pipeline.Pipeline object at 0x11fce9e90>, metrics={'1708322417.1049442': [{'started_at': DateTime(2024, 2, 19, 6, 1, 6, 763656, tzinfo=Timezone('UTC')), 'finished_at': DateTime(2024, 2, 19, 6, 2, 19, 737224, tzinfo=Timezone('UTC'))}]}, destination_type='dlt.destinations.bigquery', destination_displayable_credentials='None@iobruno-gcp-labs', destination_name='bigquery', environment=None, staging_type=None, staging_name=None, staging_displayable_credentials=None, destination_fingerprint='i/9Au08Y81aDJLgYns2/', dataset_name='dlt', loads_ids=['1708322417.1049442'], load_packages=[LoadPackageInfo(load_id='1708322417.1049442', package_path='/Users/iobruno/.dlt/pipelines/web_csv_to_bq/load/loaded/1708322417.1049442', state='loaded', schema=Schema web_csv_to_bq at 4980459344, schema_update={'_dlt_version': {'name': '_dlt_version', 'columns': {'version': {'name': 'version', 'data_type': 'bigint', 'nullable': False}, 'engine_version': {'name': 'engine_version', 'data_type': 'bigint', 'nullable': False}, 'inserted_at': {'name': 'inserted_at', 'data_type': 'timestamp', 'nullable': False}, 'schema_name': {'name': 'schema_name', 'data_type': 'text', 'nullable': False}, 'version_hash': {'name': 'version_hash', 'data_type': 'text', 'nullable': False}, 'schema': {'name': 'schema', 'data_type': 'text', 'nullable': False}}, 'write_disposition': 'skip', 'resource': '_dlt_version', 'description': 'Created by DLT. Tracks schema updates', 'table_format': None}, '_dlt_loads': {'name': '_dlt_loads', 'columns': {'load_id': {'name': 'load_id', 'data_type': 'text', 'nullable': False}, 'schema_name': {'name': 'schema_name', 'data_type': 'text', 'nullable': True}, 'status': {'name': 'status', 'data_type': 'bigint', 'nullable': False}, 'inserted_at': {'name': 'inserted_at', 'data_type': 'timestamp', 'nullable': False}, 'schema_version_hash': {'name': 'schema_version_hash', 'data_type': 'text', 'nullable': True}}, 'write_disposition': 'skip', 'resource': '_dlt_loads', 'description': 'Created by DLT. Tracks completed loads', 'table_format': None}, 'fhv_dataset': {'name': 'fhv_dataset', 'columns': {'dispatching_base_num': {'name': 'dispatching_base_num', 'nullable': True, 'data_type': 'text'}, 'pickup_datetime': {'name': 'pickup_datetime', 'nullable': True, 'data_type': 'timestamp', 'precision': 0}, 'dropoff_datetime': {'name': 'dropoff_datetime', 'nullable': True, 'data_type': 'timestamp', 'precision': 0}, 'pu_location_id': {'name': 'pu_location_id', 'nullable': True, 'data_type': 'bigint'}, 'do_location_id': {'name': 'do_location_id', 'nullable': True, 'data_type': 'bigint'}, 'sr_flag': {'name': 'sr_flag', 'nullable': True, 'data_type': 'text'}, 'affiliated_base_number': {'name': 'affiliated_base_number', 'nullable': True, 'data_type': 'text'}}, 'write_disposition': 'append', 'resource': 'fhv_dataset', 'table_format': None}, '_dlt_pipeline_state': {'columns': {'version': {'name': 'version', 'data_type': 'bigint', 'nullable': False}, 'engine_version': {'name': 'engine_version', 'data_type': 'bigint', 'nullable': False}, 'pipeline_name': {'name': 'pipeline_name', 'data_type': 'text', 'nullable': False}, 'state': {'name': 'state', 'data_type': 'text', 'nullable': False}, 'created_at': {'name': 'created_at', 'data_type': 'timestamp', 'nullable': False}, 'version_hash': {'name': 'version_hash', 'data_type': 'text', 'nullable': True}, '_dlt_load_id': {'name': '_dlt_load_id', 'data_type': 'text', 'nullable': False}, '_dlt_id': {'name': '_dlt_id', 'data_type': 'text', 'nullable': False, 'unique': True}}, 'write_disposition': 'append', 'name': '_dlt_pipeline_state', 'resource': '_dlt_pipeline_state', 'table_format': None}}, completed_at=DateTime(2024, 2, 19, 6, 2, 19, 724042, tzinfo=Timezone('UTC')), jobs={'completed_jobs': [LoadJobInfo(state='completed_jobs', file_path='/Users/iobruno/.dlt/pipelines/web_csv_to_bq/load/loaded/1708322417.1049442/completed_jobs/fhv_dataset.8200c33109.0.parquet', file_size=503715493, created_at=DateTime(2024, 2, 19, 6, 1, 6, 392865, tzinfo=Timezone('UTC')), elapsed=73.33117723464966, job_file_info=ParsedLoadJobFileName(table_name='fhv_dataset', file_id='8200c33109', retry_count=0, file_format='parquet'), failed_message=None), LoadJobInfo(state='completed_jobs', file_path='/Users/iobruno/.dlt/pipelines/web_csv_to_bq/load/loaded/1708322417.1049442/completed_jobs/_dlt_pipeline_state.de088d492e.0.jsonl', file_size=478, created_at=DateTime(2024, 2, 19, 6, 1, 6, 437463, tzinfo=Timezone('UTC')), elapsed=73.2865788936615, job_file_info=ParsedLoadJobFileName(table_name='_dlt_pipeline_state', file_id='de088d492e', retry_count=0, file_format='jsonl'), failed_message=None)], 'new_jobs': [], 'started_jobs': [], 'failed_jobs': []})], first_run=True)"
      ]
     },
     "execution_count": 8,
     "metadata": {},
     "output_type": "execute_result"
    }
   ],
   "source": [
    "pipeline.run(\n",
    "    fetch_fhv_dataset,\n",
    "    table_name='fhv_dataset',\n",
    "    write_disposition='append',\n",
    ")"
   ]
  },
  {
   "cell_type": "code",
   "execution_count": null,
   "id": "90a4ff14-8b8f-4368-abba-f36d6db54546",
   "metadata": {},
   "outputs": [],
   "source": []
  }
 ],
 "metadata": {
  "kernelspec": {
   "display_name": "Python 3 (ipykernel)",
   "language": "python",
   "name": "python3"
  },
  "language_info": {
   "codemirror_mode": {
    "name": "ipython",
    "version": 3
   },
   "file_extension": ".py",
   "mimetype": "text/x-python",
   "name": "python",
   "nbconvert_exporter": "python",
   "pygments_lexer": "ipython3",
   "version": "3.11.7"
  }
 },
 "nbformat": 4,
 "nbformat_minor": 5
}
