{
 "cells": [
  {
   "cell_type": "code",
   "execution_count": 1,
   "id": "6e91e77d-a8d8-4fa1-a816-da3d30c48de0",
   "metadata": {},
   "outputs": [],
   "source": [
    "import dlt\n",
    "import duckdb\n",
    "from typing import Literal"
   ]
  },
  {
   "cell_type": "markdown",
   "id": "550e934f-1eea-4cb0-bb33-fd841689a6ef",
   "metadata": {},
   "source": [
    "## Homework"
   ]
  },
  {
   "cell_type": "markdown",
   "id": "ee9d2828-0a9d-4b8a-8f51-782f32924459",
   "metadata": {},
   "source": [
    "### 1. Basic generator usage\n",
    "\n",
    "Remember the concept of generator? Let's practice using them to futher our understanding of how they work.  \n",
    "Let's define a generator and then run it as practice.\n",
    "\n",
    "The following **square_root_gen** is required for Questions 1 and 2"
   ]
  },
  {
   "cell_type": "code",
   "execution_count": 2,
   "id": "ade441ab-4c65-408f-840a-5413b1e1df66",
   "metadata": {},
   "outputs": [],
   "source": [
    "def square_root_gen(limit):\n",
    "    for num in range(1, limit+1):\n",
    "        yield num ** 0.5"
   ]
  },
  {
   "cell_type": "markdown",
   "id": "e6c014d3-5a93-426a-a8f1-4bf67ba42dfa",
   "metadata": {},
   "source": [
    "**Question 1**: What is the sum of the outputs of the generator for limit = 5?\n",
    "- [ ] A: 10.234\n",
    "- [ ] B: 7.892\n",
    "- [x] C: 8.382\n",
    "- [ ] D: 9.123"
   ]
  },
  {
   "cell_type": "code",
   "execution_count": 3,
   "id": "e4a692d7-4f37-4cd6-9d26-61ba6e6a8d66",
   "metadata": {},
   "outputs": [],
   "source": [
    "sqrt_generator = square_root_gen(5)"
   ]
  },
  {
   "cell_type": "code",
   "execution_count": 4,
   "id": "44f7ff5d-2ff3-4cb0-9859-782f96570dd5",
   "metadata": {},
   "outputs": [
    {
     "name": "stdout",
     "output_type": "stream",
     "text": [
      "8.382332347441762\n"
     ]
    }
   ],
   "source": [
    "print(sum([entry for entry in sqrt_generator]))"
   ]
  },
  {
   "cell_type": "markdown",
   "id": "a602d612-e058-419b-a427-a10c5f6a397e",
   "metadata": {},
   "source": [
    "**Question 2**: What is the 13th number yielded by the generator?\n",
    "- [ ] A: 4.236\n",
    "- [x] B: 3.605\n",
    "- [ ] C: 2.345\n",
    "- [ ] D: 5.678"
   ]
  },
  {
   "cell_type": "code",
   "execution_count": 5,
   "id": "8c57aff7-826c-48bc-b96e-40b7e272cdad",
   "metadata": {},
   "outputs": [],
   "source": [
    "sqrt_generator_q2 = square_root_gen(13)"
   ]
  },
  {
   "cell_type": "code",
   "execution_count": 6,
   "id": "16fc18ce-3cb0-475b-9705-5423af0801d8",
   "metadata": {},
   "outputs": [],
   "source": [
    "entries = list(sqrt_generator_q2)"
   ]
  },
  {
   "cell_type": "code",
   "execution_count": 7,
   "id": "8061a3b0-2d66-44b0-8e75-2760cdc3839f",
   "metadata": {},
   "outputs": [
    {
     "data": {
      "text/plain": [
       "3.605551275463989"
      ]
     },
     "execution_count": 7,
     "metadata": {},
     "output_type": "execute_result"
    }
   ],
   "source": [
    "entries[12]"
   ]
  },
  {
   "cell_type": "markdown",
   "id": "941ff54d-9b64-496e-960b-f363da06010f",
   "metadata": {},
   "source": [
    "### 2. Write to DuckDB with Append strategy\n",
    "\n",
    "Below you have the **citizen_gen** generator. You will be tasked to load them to duckdb and answer some questions from the data\n",
    "\n",
    "1. Load the first generator and calculate the sum of ages of all people. Make sure to only load it once.\n",
    "2. Append the second generator to the same table as the first.\n",
    "3. **After correctly appending the data, calculate the sum of all ages of people.**\n"
   ]
  },
  {
   "cell_type": "code",
   "execution_count": 8,
   "id": "057c8aec-4a04-42b9-b5d2-bc3e4d317a39",
   "metadata": {},
   "outputs": [],
   "source": [
    "citizen_a = lambda num: {\n",
    "    'id': num,\n",
    "    'name': f\"Person_{num}\",\n",
    "    'age': 25 + num,\n",
    "    'city': \"City_A\",\n",
    "}\n",
    "\n",
    "citizen_b = lambda num: {\n",
    "    'id': num,\n",
    "    'name': f\"Person_{num}\",\n",
    "    'age': 30 + num,\n",
    "    'city': \"City_B\",\n",
    "    'occupation': f\"Job_{num}\",\n",
    "}"
   ]
  },
  {
   "cell_type": "code",
   "execution_count": 9,
   "id": "9a46a659-5503-4621-a65c-095a0122f119",
   "metadata": {},
   "outputs": [],
   "source": [
    "def citizen_gen(type: Literal[\"a\", \"b\"]):\n",
    "    if (type == \"a\"):\n",
    "        for _ in range(1, 6):\n",
    "            yield citizen_a(_)\n",
    "    elif (type == \"b\"):\n",
    "        for _ in range(3, 9):\n",
    "            yield citizen_b(_)\n",
    "    else:\n",
    "        raise RuntimeError(\"Accepted parameters are 'a' or 'b'\")"
   ]
  },
  {
   "cell_type": "code",
   "execution_count": 10,
   "id": "78b3d6d3-ba26-48e1-9244-f93f0e6e4c66",
   "metadata": {},
   "outputs": [],
   "source": [
    "citizens_a = citizen_gen('a')\n",
    "citizens_b = citizen_gen('b')"
   ]
  },
  {
   "cell_type": "markdown",
   "id": "366e85a2-6207-4708-9328-6b69c110aea0",
   "metadata": {},
   "source": [
    "**Question 3**: Append the 2 generators. After correctly appending the data, calculate the sum of all ages of people.\n",
    "- [x] A: 353\n",
    "- [ ] B: 365\n",
    "- [ ] C: 378\n",
    "- [ ] D: 390"
   ]
  },
  {
   "cell_type": "code",
   "execution_count": 11,
   "id": "d84de470-cc60-4c61-8b67-d2c75c622edb",
   "metadata": {},
   "outputs": [],
   "source": [
    "conn = duckdb.connect()"
   ]
  },
  {
   "cell_type": "code",
   "execution_count": 12,
   "id": "e0b7437f-276b-4969-9f60-dc38bb0d3451",
   "metadata": {},
   "outputs": [],
   "source": [
    "pipeline = dlt.pipeline(\n",
    "    pipeline_name='py_gen_pipeline',\n",
    "    destination=dlt.destinations.duckdb(conn), \n",
    "    dataset_name='dlt',\n",
    ")"
   ]
  },
  {
   "cell_type": "code",
   "execution_count": 13,
   "id": "77584a21-1242-42f4-9982-866dc446f54f",
   "metadata": {},
   "outputs": [],
   "source": [
    "pipeline.run(\n",
    "    citizen_gen('a'),\n",
    "    table_name='citizens', \n",
    "    write_disposition='replace'\n",
    ");"
   ]
  },
  {
   "cell_type": "code",
   "execution_count": 14,
   "id": "467c69b5-51f1-47c9-824f-9238ce705ef4",
   "metadata": {},
   "outputs": [],
   "source": [
    "pipeline.run(\n",
    "    citizen_gen('b'), \n",
    "    table_name='citizens', \n",
    "    write_disposition='append'\n",
    ");"
   ]
  },
  {
   "cell_type": "code",
   "execution_count": 15,
   "id": "2a0485cf-25af-4be9-978a-26504659e27f",
   "metadata": {},
   "outputs": [
    {
     "data": {
      "text/html": [
       "<div>\n",
       "<style scoped>\n",
       "    .dataframe tbody tr th:only-of-type {\n",
       "        vertical-align: middle;\n",
       "    }\n",
       "\n",
       "    .dataframe tbody tr th {\n",
       "        vertical-align: top;\n",
       "    }\n",
       "\n",
       "    .dataframe thead th {\n",
       "        text-align: right;\n",
       "    }\n",
       "</style>\n",
       "<table border=\"1\" class=\"dataframe\">\n",
       "  <thead>\n",
       "    <tr style=\"text-align: right;\">\n",
       "      <th></th>\n",
       "      <th>id</th>\n",
       "      <th>name</th>\n",
       "      <th>age</th>\n",
       "      <th>city</th>\n",
       "      <th>_dlt_load_id</th>\n",
       "      <th>_dlt_id</th>\n",
       "      <th>occupation</th>\n",
       "    </tr>\n",
       "  </thead>\n",
       "  <tbody>\n",
       "    <tr>\n",
       "      <th>0</th>\n",
       "      <td>1</td>\n",
       "      <td>Person_1</td>\n",
       "      <td>26</td>\n",
       "      <td>City_A</td>\n",
       "      <td>1708274457.706264</td>\n",
       "      <td>UIiGUDcGSil/fA</td>\n",
       "      <td>None</td>\n",
       "    </tr>\n",
       "    <tr>\n",
       "      <th>1</th>\n",
       "      <td>2</td>\n",
       "      <td>Person_2</td>\n",
       "      <td>27</td>\n",
       "      <td>City_A</td>\n",
       "      <td>1708274457.706264</td>\n",
       "      <td>tQrUcD+M8UUgXw</td>\n",
       "      <td>None</td>\n",
       "    </tr>\n",
       "    <tr>\n",
       "      <th>2</th>\n",
       "      <td>3</td>\n",
       "      <td>Person_3</td>\n",
       "      <td>28</td>\n",
       "      <td>City_A</td>\n",
       "      <td>1708274457.706264</td>\n",
       "      <td>mokduLXNK//zmw</td>\n",
       "      <td>None</td>\n",
       "    </tr>\n",
       "    <tr>\n",
       "      <th>3</th>\n",
       "      <td>4</td>\n",
       "      <td>Person_4</td>\n",
       "      <td>29</td>\n",
       "      <td>City_A</td>\n",
       "      <td>1708274457.706264</td>\n",
       "      <td>M7zAzz2YaYNzIA</td>\n",
       "      <td>None</td>\n",
       "    </tr>\n",
       "    <tr>\n",
       "      <th>4</th>\n",
       "      <td>5</td>\n",
       "      <td>Person_5</td>\n",
       "      <td>30</td>\n",
       "      <td>City_A</td>\n",
       "      <td>1708274457.706264</td>\n",
       "      <td>gvWnxcLiLzoW+g</td>\n",
       "      <td>None</td>\n",
       "    </tr>\n",
       "    <tr>\n",
       "      <th>5</th>\n",
       "      <td>3</td>\n",
       "      <td>Person_3</td>\n",
       "      <td>33</td>\n",
       "      <td>City_B</td>\n",
       "      <td>1708274459.0597398</td>\n",
       "      <td>w3uiv8F3m7l+Nw</td>\n",
       "      <td>Job_3</td>\n",
       "    </tr>\n",
       "    <tr>\n",
       "      <th>6</th>\n",
       "      <td>4</td>\n",
       "      <td>Person_4</td>\n",
       "      <td>34</td>\n",
       "      <td>City_B</td>\n",
       "      <td>1708274459.0597398</td>\n",
       "      <td>1mCdOPWlvVxXWA</td>\n",
       "      <td>Job_4</td>\n",
       "    </tr>\n",
       "    <tr>\n",
       "      <th>7</th>\n",
       "      <td>5</td>\n",
       "      <td>Person_5</td>\n",
       "      <td>35</td>\n",
       "      <td>City_B</td>\n",
       "      <td>1708274459.0597398</td>\n",
       "      <td>1C5uXNbG4Qypbw</td>\n",
       "      <td>Job_5</td>\n",
       "    </tr>\n",
       "    <tr>\n",
       "      <th>8</th>\n",
       "      <td>6</td>\n",
       "      <td>Person_6</td>\n",
       "      <td>36</td>\n",
       "      <td>City_B</td>\n",
       "      <td>1708274459.0597398</td>\n",
       "      <td>7YKEjNqNa+I1ZA</td>\n",
       "      <td>Job_6</td>\n",
       "    </tr>\n",
       "    <tr>\n",
       "      <th>9</th>\n",
       "      <td>7</td>\n",
       "      <td>Person_7</td>\n",
       "      <td>37</td>\n",
       "      <td>City_B</td>\n",
       "      <td>1708274459.0597398</td>\n",
       "      <td>MNI8SHqg6POlEg</td>\n",
       "      <td>Job_7</td>\n",
       "    </tr>\n",
       "    <tr>\n",
       "      <th>10</th>\n",
       "      <td>8</td>\n",
       "      <td>Person_8</td>\n",
       "      <td>38</td>\n",
       "      <td>City_B</td>\n",
       "      <td>1708274459.0597398</td>\n",
       "      <td>b6O3T9U2IUuGMg</td>\n",
       "      <td>Job_8</td>\n",
       "    </tr>\n",
       "  </tbody>\n",
       "</table>\n",
       "</div>"
      ],
      "text/plain": [
       "    id      name  age    city        _dlt_load_id         _dlt_id occupation\n",
       "0    1  Person_1   26  City_A   1708274457.706264  UIiGUDcGSil/fA       None\n",
       "1    2  Person_2   27  City_A   1708274457.706264  tQrUcD+M8UUgXw       None\n",
       "2    3  Person_3   28  City_A   1708274457.706264  mokduLXNK//zmw       None\n",
       "3    4  Person_4   29  City_A   1708274457.706264  M7zAzz2YaYNzIA       None\n",
       "4    5  Person_5   30  City_A   1708274457.706264  gvWnxcLiLzoW+g       None\n",
       "5    3  Person_3   33  City_B  1708274459.0597398  w3uiv8F3m7l+Nw      Job_3\n",
       "6    4  Person_4   34  City_B  1708274459.0597398  1mCdOPWlvVxXWA      Job_4\n",
       "7    5  Person_5   35  City_B  1708274459.0597398  1C5uXNbG4Qypbw      Job_5\n",
       "8    6  Person_6   36  City_B  1708274459.0597398  7YKEjNqNa+I1ZA      Job_6\n",
       "9    7  Person_7   37  City_B  1708274459.0597398  MNI8SHqg6POlEg      Job_7\n",
       "10   8  Person_8   38  City_B  1708274459.0597398  b6O3T9U2IUuGMg      Job_8"
      ]
     },
     "execution_count": 15,
     "metadata": {},
     "output_type": "execute_result"
    }
   ],
   "source": [
    "conn.sql(\"SELECT * FROM dlt.citizens\").df()"
   ]
  },
  {
   "cell_type": "code",
   "execution_count": 16,
   "id": "ae8513d1-1a49-461e-a4e5-60985c5f1329",
   "metadata": {},
   "outputs": [
    {
     "data": {
      "text/plain": [
       "┌──────────┐\n",
       "│ sum(age) │\n",
       "│  int128  │\n",
       "├──────────┤\n",
       "│      353 │\n",
       "└──────────┘"
      ]
     },
     "execution_count": 16,
     "metadata": {},
     "output_type": "execute_result"
    }
   ],
   "source": [
    "conn.sql(\"SELECT sum(age) FROM dlt.citizens\")"
   ]
  },
  {
   "cell_type": "code",
   "execution_count": 17,
   "id": "8c479c38-d96e-42f4-b18c-3e7e655127d5",
   "metadata": {},
   "outputs": [],
   "source": [
    "conn.close()"
   ]
  },
  {
   "cell_type": "markdown",
   "id": "c0b67c60-cfb9-4da5-a9ea-f2e43b5315f3",
   "metadata": {},
   "source": [
    "### 3. Write to DuckDB with Merge strategy\n",
    "\n",
    "Re-use the generators from topic 2.\n",
    "\n",
    "A table's primary key needs to be created from the start, so load your data to a new table with primary key ID.\n",
    "\n",
    "Load your first generator first, and then load the second one with merge. Since they have overlapping IDs, some of the records from the first load should be replaced by the ones from the second load.\n",
    "\n",
    "After loading, you should have a total of 8 records, and ID 3 should have age 33.\n",
    "\n",
    "Question: **Calculate the sum of ages of all the people loaded as described above.**\n"
   ]
  },
  {
   "cell_type": "markdown",
   "id": "71c23de1-be8a-4bf4-89b5-5dbc01e55a27",
   "metadata": {},
   "source": [
    "**Question 4**: Merge the 2 generators using the ID column. Calculate the sum of ages of all the people loaded as described above.\n",
    "- [ ] A: 205\n",
    "- [x] B: 266\n",
    "- [ ] C: 241\n",
    "- [ ] D: 258"
   ]
  },
  {
   "cell_type": "code",
   "execution_count": 18,
   "id": "ffa8152c-dbd4-4b26-aa42-d5193cfd0254",
   "metadata": {},
   "outputs": [],
   "source": [
    "conn = duckdb.connect()"
   ]
  },
  {
   "cell_type": "code",
   "execution_count": 19,
   "id": "6df7221b-4e5e-44e3-b56d-c245de96b39e",
   "metadata": {},
   "outputs": [],
   "source": [
    "pipeline = dlt.pipeline(\n",
    "    pipeline_name='py_gen_pipeline',\n",
    "    destination=dlt.destinations.duckdb(conn), \n",
    "    dataset_name='dlt',\n",
    ")"
   ]
  },
  {
   "cell_type": "code",
   "execution_count": 20,
   "id": "cfb9877f-3e33-4572-877c-92ab98ddcb42",
   "metadata": {},
   "outputs": [],
   "source": [
    "pipeline.run(\n",
    "    citizen_gen('a'),\n",
    "    table_name='citizens', \n",
    "    write_disposition='replace'\n",
    ");"
   ]
  },
  {
   "cell_type": "code",
   "execution_count": 21,
   "id": "36548627-9666-4099-855a-5e8161f8b5cc",
   "metadata": {},
   "outputs": [],
   "source": [
    "pipeline.run(\n",
    "    citizen_gen('b'), \n",
    "    table_name='citizens', \n",
    "    write_disposition='merge',\n",
    "    primary_key='id',\n",
    ");"
   ]
  },
  {
   "cell_type": "code",
   "execution_count": 22,
   "id": "af1becec-5821-426c-ad81-b340926e9e26",
   "metadata": {},
   "outputs": [
    {
     "data": {
      "text/html": [
       "<div>\n",
       "<style scoped>\n",
       "    .dataframe tbody tr th:only-of-type {\n",
       "        vertical-align: middle;\n",
       "    }\n",
       "\n",
       "    .dataframe tbody tr th {\n",
       "        vertical-align: top;\n",
       "    }\n",
       "\n",
       "    .dataframe thead th {\n",
       "        text-align: right;\n",
       "    }\n",
       "</style>\n",
       "<table border=\"1\" class=\"dataframe\">\n",
       "  <thead>\n",
       "    <tr style=\"text-align: right;\">\n",
       "      <th></th>\n",
       "      <th>id</th>\n",
       "      <th>name</th>\n",
       "      <th>age</th>\n",
       "      <th>city</th>\n",
       "      <th>_dlt_load_id</th>\n",
       "      <th>_dlt_id</th>\n",
       "      <th>occupation</th>\n",
       "    </tr>\n",
       "  </thead>\n",
       "  <tbody>\n",
       "    <tr>\n",
       "      <th>0</th>\n",
       "      <td>1</td>\n",
       "      <td>Person_1</td>\n",
       "      <td>26</td>\n",
       "      <td>City_A</td>\n",
       "      <td>1708274462.283322</td>\n",
       "      <td>f1+IW0TglnFYdw</td>\n",
       "      <td>None</td>\n",
       "    </tr>\n",
       "    <tr>\n",
       "      <th>1</th>\n",
       "      <td>2</td>\n",
       "      <td>Person_2</td>\n",
       "      <td>27</td>\n",
       "      <td>City_A</td>\n",
       "      <td>1708274462.283322</td>\n",
       "      <td>PrHbEV/+y9Qt0g</td>\n",
       "      <td>None</td>\n",
       "    </tr>\n",
       "    <tr>\n",
       "      <th>2</th>\n",
       "      <td>5</td>\n",
       "      <td>Person_5</td>\n",
       "      <td>35</td>\n",
       "      <td>City_B</td>\n",
       "      <td>1708274462.846535</td>\n",
       "      <td>tzrDCNOd5wF3LQ</td>\n",
       "      <td>Job_5</td>\n",
       "    </tr>\n",
       "    <tr>\n",
       "      <th>3</th>\n",
       "      <td>3</td>\n",
       "      <td>Person_3</td>\n",
       "      <td>33</td>\n",
       "      <td>City_B</td>\n",
       "      <td>1708274462.846535</td>\n",
       "      <td>F1/YjRWTRjCDKQ</td>\n",
       "      <td>Job_3</td>\n",
       "    </tr>\n",
       "    <tr>\n",
       "      <th>4</th>\n",
       "      <td>6</td>\n",
       "      <td>Person_6</td>\n",
       "      <td>36</td>\n",
       "      <td>City_B</td>\n",
       "      <td>1708274462.846535</td>\n",
       "      <td>Q5gVdSPfvyTXMw</td>\n",
       "      <td>Job_6</td>\n",
       "    </tr>\n",
       "    <tr>\n",
       "      <th>5</th>\n",
       "      <td>4</td>\n",
       "      <td>Person_4</td>\n",
       "      <td>34</td>\n",
       "      <td>City_B</td>\n",
       "      <td>1708274462.846535</td>\n",
       "      <td>QiaWaVygMsUO2w</td>\n",
       "      <td>Job_4</td>\n",
       "    </tr>\n",
       "    <tr>\n",
       "      <th>6</th>\n",
       "      <td>8</td>\n",
       "      <td>Person_8</td>\n",
       "      <td>38</td>\n",
       "      <td>City_B</td>\n",
       "      <td>1708274462.846535</td>\n",
       "      <td>KoiJTUdyslWnnA</td>\n",
       "      <td>Job_8</td>\n",
       "    </tr>\n",
       "    <tr>\n",
       "      <th>7</th>\n",
       "      <td>7</td>\n",
       "      <td>Person_7</td>\n",
       "      <td>37</td>\n",
       "      <td>City_B</td>\n",
       "      <td>1708274462.846535</td>\n",
       "      <td>rIl7gYl1xsGkOw</td>\n",
       "      <td>Job_7</td>\n",
       "    </tr>\n",
       "  </tbody>\n",
       "</table>\n",
       "</div>"
      ],
      "text/plain": [
       "   id      name  age    city       _dlt_load_id         _dlt_id occupation\n",
       "0   1  Person_1   26  City_A  1708274462.283322  f1+IW0TglnFYdw       None\n",
       "1   2  Person_2   27  City_A  1708274462.283322  PrHbEV/+y9Qt0g       None\n",
       "2   5  Person_5   35  City_B  1708274462.846535  tzrDCNOd5wF3LQ      Job_5\n",
       "3   3  Person_3   33  City_B  1708274462.846535  F1/YjRWTRjCDKQ      Job_3\n",
       "4   6  Person_6   36  City_B  1708274462.846535  Q5gVdSPfvyTXMw      Job_6\n",
       "5   4  Person_4   34  City_B  1708274462.846535  QiaWaVygMsUO2w      Job_4\n",
       "6   8  Person_8   38  City_B  1708274462.846535  KoiJTUdyslWnnA      Job_8\n",
       "7   7  Person_7   37  City_B  1708274462.846535  rIl7gYl1xsGkOw      Job_7"
      ]
     },
     "execution_count": 22,
     "metadata": {},
     "output_type": "execute_result"
    }
   ],
   "source": [
    "conn.sql(\"SELECT * FROM dlt.citizens\").df()"
   ]
  },
  {
   "cell_type": "code",
   "execution_count": 23,
   "id": "8d58d5ac-093e-4cce-9d74-165d94475125",
   "metadata": {},
   "outputs": [
    {
     "data": {
      "text/plain": [
       "┌──────────┐\n",
       "│ sum(age) │\n",
       "│  int128  │\n",
       "├──────────┤\n",
       "│      266 │\n",
       "└──────────┘"
      ]
     },
     "execution_count": 23,
     "metadata": {},
     "output_type": "execute_result"
    }
   ],
   "source": [
    "conn.sql(\"SELECT sum(age) FROM dlt.citizens\")"
   ]
  },
  {
   "cell_type": "code",
   "execution_count": 24,
   "id": "a86cdde0-737a-4e64-80f9-a1d4ec04bca4",
   "metadata": {},
   "outputs": [],
   "source": [
    "conn.close()"
   ]
  },
  {
   "cell_type": "code",
   "execution_count": null,
   "id": "dfcea2f8-9def-4b55-b755-143f0fc8758b",
   "metadata": {},
   "outputs": [],
   "source": []
  }
 ],
 "metadata": {
  "kernelspec": {
   "display_name": "Python 3 (ipykernel)",
   "language": "python",
   "name": "python3"
  },
  "language_info": {
   "codemirror_mode": {
    "name": "ipython",
    "version": 3
   },
   "file_extension": ".py",
   "mimetype": "text/x-python",
   "name": "python",
   "nbconvert_exporter": "python",
   "pygments_lexer": "ipython3",
   "version": "3.11.7"
  }
 },
 "nbformat": 4,
 "nbformat_minor": 5
}
