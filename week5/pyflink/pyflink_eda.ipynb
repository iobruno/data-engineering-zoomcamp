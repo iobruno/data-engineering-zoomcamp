{
 "cells": [
  {
   "cell_type": "code",
   "execution_count": 1,
   "id": "fe6aa7e4-dcae-46a0-a62c-97bfbd038537",
   "metadata": {},
   "outputs": [],
   "source": [
    "from pyflink.table import (\n",
    "    EnvironmentSettings, TableEnvironment, \n",
    "    CsvTableSource, DataTypes, \n",
    "    Table, TableSource\n",
    ")\n",
    "\n",
    "from pyflink.table.expressions import col"
   ]
  },
  {
   "cell_type": "markdown",
   "id": "6162f490-ede4-4333-ab42-5a27eafc64e3",
   "metadata": {},
   "source": [
    "### Setup Flink Environment"
   ]
  },
  {
   "cell_type": "code",
   "execution_count": 2,
   "id": "eccfcaa3-cd6f-4217-9178-3c879e61f352",
   "metadata": {
    "tags": []
   },
   "outputs": [],
   "source": [
    "env_settings = EnvironmentSettings.in_batch_mode()"
   ]
  },
  {
   "cell_type": "code",
   "execution_count": 3,
   "id": "b77241c9-84c4-44ce-b43c-a9549151e8af",
   "metadata": {
    "tags": []
   },
   "outputs": [],
   "source": [
    "t_env = TableEnvironment.create(env_settings)"
   ]
  },
  {
   "cell_type": "markdown",
   "id": "2101d10f-871d-4803-ac4f-ed91f1b923bf",
   "metadata": {
    "tags": []
   },
   "source": [
    "### FHV Dataset"
   ]
  },
  {
   "cell_type": "code",
   "execution_count": 4,
   "id": "fa3c2e3b-6bd0-42d9-af6d-7da2c97e30ca",
   "metadata": {
    "tags": []
   },
   "outputs": [],
   "source": [
    "fhv_dataset_path = \"/Users/iobruno/Vault/datasets/fhv/fhv_tripdata_2019-01.csv.gz\""
   ]
  },
  {
   "cell_type": "code",
   "execution_count": 5,
   "id": "704062cd-2e77-4829-a3dd-15b530c22334",
   "metadata": {
    "tags": []
   },
   "outputs": [],
   "source": [
    "fhv_ts: TableSource = CsvTableSource(\n",
    "    source_path=fhv_dataset_path,\n",
    "    field_names=[\n",
    "        'dispatching_base_num', \n",
    "        'pickup_datetime',\n",
    "        'dropoff_datetime',\n",
    "        'pickup_location_id',\n",
    "        'dropoff_location_id',\n",
    "        'sr_flag',\n",
    "        'affiliated_base_number'\n",
    "    ],\n",
    "    field_types=[\n",
    "        DataTypes.STRING(),\n",
    "        DataTypes.TIMESTAMP(),\n",
    "        DataTypes.TIMESTAMP(),\n",
    "        DataTypes.INT(),\n",
    "        DataTypes.INT(),\n",
    "        DataTypes.INT(),\n",
    "        DataTypes.STRING()\n",
    "    ],\n",
    "    ignore_first_line=True\n",
    ")"
   ]
  },
  {
   "cell_type": "code",
   "execution_count": 6,
   "id": "2e87cc33-d407-4475-ac5e-a5b98788e9a5",
   "metadata": {
    "tags": []
   },
   "outputs": [],
   "source": [
    "\"\"\"\n",
    "    Registers as temporary_view, attempting to first drop it to prevent\n",
    "    errors on table name collisions\n",
    "\"\"\"\n",
    "t_env.drop_temporary_view('fhv')\n",
    "t_env.register_table('fhv', t_env.from_table_source(fhv_ts))"
   ]
  },
  {
   "cell_type": "code",
   "execution_count": null,
   "id": "20757660-8675-43dd-a8b2-a94950ddf511",
   "metadata": {},
   "outputs": [],
   "source": []
  },
  {
   "cell_type": "markdown",
   "id": "fa35cd1c-1470-4d88-b8ca-2c5565247918",
   "metadata": {},
   "source": [
    "### Taxi Lookup Zones Dataset"
   ]
  },
  {
   "cell_type": "code",
   "execution_count": 7,
   "id": "2c5e96fc-a344-4bc4-9ed9-3296c3554e0a",
   "metadata": {
    "tags": []
   },
   "outputs": [],
   "source": [
    "zones_dataset_path = \"/Users/iobruno/Vault/datasets/zones/taxi_zone_lookup.csv\""
   ]
  },
  {
   "cell_type": "code",
   "execution_count": 8,
   "id": "76b704d2-ea41-40da-b938-b60c4129a5e0",
   "metadata": {},
   "outputs": [],
   "source": [
    "zones_ts: TableSource = CsvTableSource(\n",
    "    source_path=zones_dataset_path,\n",
    "    field_names=[\n",
    "        'location_id', \n",
    "        'borough', \n",
    "        'zone', \n",
    "        'service_zone'\n",
    "    ],\n",
    "    field_types=[\n",
    "        DataTypes.INT(),\n",
    "        DataTypes.STRING(),\n",
    "        DataTypes.STRING(),\n",
    "        DataTypes.STRING()                   \n",
    "    ],\n",
    "    ignore_first_line=True\n",
    ")"
   ]
  },
  {
   "cell_type": "code",
   "execution_count": 9,
   "id": "ee7c5c02-5a28-4625-b3df-f89d466aca60",
   "metadata": {
    "tags": []
   },
   "outputs": [],
   "source": [
    "\"\"\"\n",
    "    Registers as temporary_view, attempting to first drop it to prevent\n",
    "    errors on table name collisions\n",
    "\"\"\"\n",
    "t_env.drop_temporary_view('zones')\n",
    "t_env.register_table('zones', t_env.from_table_source(zones_ts))"
   ]
  },
  {
   "cell_type": "code",
   "execution_count": null,
   "id": "272d7344-a3bb-4844-b145-317d7f64d418",
   "metadata": {},
   "outputs": [],
   "source": []
  },
  {
   "cell_type": "markdown",
   "id": "3d44a8f5-8794-4f38-a57d-f3945ebb12b8",
   "metadata": {},
   "source": [
    "### Flink SQL - Join Flink Tables"
   ]
  },
  {
   "cell_type": "code",
   "execution_count": 10,
   "id": "6c15836d-bfbd-462c-99b7-d11e2084294a",
   "metadata": {
    "tags": []
   },
   "outputs": [],
   "source": [
    "tbl: Table = t_env.sql_query(\"\"\"    \n",
    "    SELECT \n",
    "        f.dispatching_base_num,\n",
    "        f.affiliated_base_number,\n",
    "\n",
    "        -- Pickup Location\n",
    "        f.pickup_datetime,\n",
    "        pu.zone as pickup_zone,\n",
    "        pu.service_zone as pickup_service_zone,\n",
    "        \n",
    "        -- Dropoff Location\n",
    "        f.dropoff_datetime,\n",
    "        do.zone as dropoff_zone,\n",
    "        do.service_zone as dropoff_service_zone\n",
    "        \n",
    "    FROM fhv f\n",
    "    INNER JOIN zones pu ON f.pickup_location_id  = pu.location_id\n",
    "    INNER JOIN zones do ON f.dropoff_location_id = do.location_id \n",
    "\"\"\")"
   ]
  },
  {
   "cell_type": "code",
   "execution_count": 11,
   "id": "b963d18e-1ce6-4cce-9116-944d24cbc99c",
   "metadata": {
    "tags": []
   },
   "outputs": [
    {
     "name": "stdout",
     "output_type": "stream",
     "text": [
      "+--------------------------------+--------------------------------+----------------------------+--------------------------------+--------------------------------+----------------------------+--------------------------------+--------------------------------+\n",
      "|           dispatching_base_num |         affiliated_base_number |            pickup_datetime |                    pickup_zone |            pickup_service_zone |           dropoff_datetime |                   dropoff_zone |           dropoff_service_zone |\n",
      "+--------------------------------+--------------------------------+----------------------------+--------------------------------+--------------------------------+----------------------------+--------------------------------+--------------------------------+\n",
      "|                         B02877 |                                | 2019-01-31 23:58:13.000000 |                    JFK Airport |                       Airports | 2019-02-01 00:22:31.000000 |        Allerton/Pelham Gardens |                      Boro Zone |\n",
      "|                         B02867 |                                | 2019-01-31 23:22:53.000000 |                  Midtown South |                    Yellow Zone | 2019-02-01 00:12:39.000000 |        Allerton/Pelham Gardens |                      Boro Zone |\n",
      "|                         B02914 |                                | 2019-01-31 22:01:23.000000 |        Allerton/Pelham Gardens |                      Boro Zone | 2019-01-31 22:08:15.000000 |        Allerton/Pelham Gardens |                      Boro Zone |\n",
      "|                         B02887 |                                | 2019-01-31 22:00:07.000000 |      Williamsburg (North Side) |                      Boro Zone | 2019-01-31 22:38:02.000000 |        Allerton/Pelham Gardens |                      Boro Zone |\n",
      "|                         B02878 |                                | 2019-01-31 22:30:21.000000 |        Allerton/Pelham Gardens |                      Boro Zone | 2019-01-31 22:33:44.000000 |        Allerton/Pelham Gardens |                      Boro Zone |\n",
      "+--------------------------------+--------------------------------+----------------------------+--------------------------------+--------------------------------+----------------------------+--------------------------------+--------------------------------+\n",
      "5 rows in set\n"
     ]
    }
   ],
   "source": [
    "tbl.fetch(5).execute().print()"
   ]
  },
  {
   "cell_type": "code",
   "execution_count": null,
   "id": "69dad6f3-b209-4b01-9bf4-2d3952eab019",
   "metadata": {},
   "outputs": [],
   "source": []
  }
 ],
 "metadata": {
  "kernelspec": {
   "display_name": "Python 3 (ipykernel)",
   "language": "python",
   "name": "python3"
  },
  "language_info": {
   "codemirror_mode": {
    "name": "ipython",
    "version": 3
   },
   "file_extension": ".py",
   "mimetype": "text/x-python",
   "name": "python",
   "nbconvert_exporter": "python",
   "pygments_lexer": "ipython3",
   "version": "3.9.16"
  }
 },
 "nbformat": 4,
 "nbformat_minor": 5
}
