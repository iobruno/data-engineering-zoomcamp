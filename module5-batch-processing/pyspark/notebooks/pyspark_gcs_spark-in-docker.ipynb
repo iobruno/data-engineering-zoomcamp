{
 "cells": [
  {
   "cell_type": "code",
   "execution_count": 1,
   "id": "80675431-e2db-4ee0-805b-abd793a44393",
   "metadata": {
    "tags": []
   },
   "outputs": [],
   "source": [
    "from os import environ as env\n",
    "\n",
    "from pyspark import SparkContext\n",
    "from pyspark.conf import SparkConf\n",
    "from pyspark.sql import DataFrame, SparkSession\n",
    "from pyspark.sql.functions import col, dayofmonth\n",
    "from pyspark.sql.types import *"
   ]
  },
  {
   "cell_type": "markdown",
   "id": "e744c78f-3dc4-410d-b64c-0564de35298d",
   "metadata": {},
   "source": [
    "### Setup Spark Session"
   ]
  },
  {
   "cell_type": "code",
   "execution_count": 2,
   "id": "2cd350d8-e343-4fc5-82d9-10dd5afe907b",
   "metadata": {},
   "outputs": [],
   "source": [
    "conf = SparkConf() \\\n",
    "        .setMaster(\"local[*]\") \\\n",
    "        .setAppName(\"pyspark-playground\") \\\n",
    "        .set(\"spark.cores.max\", 4) \\\n",
    "        .set(\"spark.driver.memory\", \"2g\") \\\n",
    "        .set(\"spark.executor.memory\", \"8g\") \\\n",
    "        .set(\"spark.sql.execution.arrow.pyspark.enabled\", \"true\") \\\n",
    "        .set(\"spark.jars\", \"/Users/iobruno/Vault/data-engineering-zoomcamp/week_5_batch_processing/jars/gcs-connector-latest-hadoop2.jar\")"
   ]
  },
  {
   "cell_type": "code",
   "execution_count": 3,
   "id": "80b3f190-5006-4bad-b1db-d336f44e097c",
   "metadata": {},
   "outputs": [
    {
     "name": "stderr",
     "output_type": "stream",
     "text": [
      "23/11/27 00:49:45 WARN Utils: Your hostname, magi.local resolves to a loopback address: 127.0.0.1; using 192.168.15.29 instead (on interface en0)\n",
      "23/11/27 00:49:45 WARN Utils: Set SPARK_LOCAL_IP if you need to bind to another address\n",
      "23/11/27 00:49:46 WARN NativeCodeLoader: Unable to load native-hadoop library for your platform... using builtin-java classes where applicable\n",
      "Setting default log level to \"WARN\".\n",
      "To adjust logging level use sc.setLogLevel(newLevel). For SparkR, use setLogLevel(newLevel).\n"
     ]
    }
   ],
   "source": [
    "sc = SparkContext(conf=conf)\n",
    "sc.setLogLevel(\"ERROR\")\n",
    "\n",
    "hadoop_conf = sc._jsc.hadoopConfiguration()\n",
    "hadoop_conf.set(\"fs.AbstractFileSystem.gs.impl\",  \"com.google.cloud.hadoop.fs.gcs.GoogleHadoopFS\")\n",
    "hadoop_conf.set(\"fs.gs.impl\", \"com.google.cloud.hadoop.fs.gcs.GoogleHadoopFileSystem\")\n",
    "hadoop_conf.set(\"fs.gs.auth.service.account.enable\", \"true\")\n",
    "hadoop_conf.set(\"fs.gs.auth.service.account.json.keyfile\", env[\"GOOGLE_APPLICATION_CREDENTIALS\"])"
   ]
  },
  {
   "cell_type": "code",
   "execution_count": 4,
   "id": "388790f0-2ced-4933-943c-ff36bedf785c",
   "metadata": {},
   "outputs": [],
   "source": [
    "spark = SparkSession.builder.config(conf=conf).getOrCreate()"
   ]
  },
  {
   "cell_type": "markdown",
   "id": "a06a2003-84b2-48f1-9fc6-d19f61bab2c2",
   "metadata": {
    "tags": []
   },
   "source": [
    "## Load Datasets from GCS"
   ]
  },
  {
   "cell_type": "markdown",
   "id": "1f3f3210",
   "metadata": {},
   "source": [
    "#### FHV Dataset"
   ]
  },
  {
   "cell_type": "code",
   "execution_count": 5,
   "id": "6a9ade0a-da0f-4ef8-95a5-7d0a2eab60f5",
   "metadata": {
    "tags": []
   },
   "outputs": [
    {
     "name": "stderr",
     "output_type": "stream",
     "text": [
      "                                                                                \r"
     ]
    }
   ],
   "source": [
    "fhv = spark.read.parquet(\"gs://iobruno-lakehouse-raw/nyc_trip_record_data/fhv/*.parquet\")"
   ]
  },
  {
   "cell_type": "code",
   "execution_count": 6,
   "id": "0388afac-096c-4b6b-bc6a-c9d41fa4b707",
   "metadata": {},
   "outputs": [],
   "source": [
    "fhv = fhv.select(\n",
    "    col('dispatching_base_num'), \n",
    "    col('Affiliated_base_number').alias('affiliated_base_num'),\n",
    "    col('pickup_datetime').cast('timestamp'),\n",
    "    col('dropOff_datetime').cast('timestamp').alias('dropoff_datetime'),\n",
    "    col('PUlocationID').alias('pickup_location_id'),\n",
    "    col('DOlocationID').alias('dropoff_location_id')\n",
    ")"
   ]
  },
  {
   "cell_type": "code",
   "execution_count": 7,
   "id": "b591e202-7839-47c1-9f52-746f6eb69beb",
   "metadata": {
    "tags": []
   },
   "outputs": [],
   "source": [
    "fhv.createOrReplaceTempView(\"fhv\")"
   ]
  },
  {
   "cell_type": "code",
   "execution_count": 8,
   "id": "996b51c4",
   "metadata": {
    "collapsed": false,
    "jupyter": {
     "outputs_hidden": false
    },
    "tags": []
   },
   "outputs": [
    {
     "name": "stdout",
     "output_type": "stream",
     "text": [
      "root\n",
      " |-- dispatching_base_num: string (nullable = true)\n",
      " |-- affiliated_base_num: string (nullable = true)\n",
      " |-- pickup_datetime: timestamp (nullable = true)\n",
      " |-- dropoff_datetime: timestamp (nullable = true)\n",
      " |-- pickup_location_id: long (nullable = true)\n",
      " |-- dropoff_location_id: long (nullable = true)\n",
      "\n"
     ]
    }
   ],
   "source": [
    "fhv.printSchema()"
   ]
  },
  {
   "cell_type": "markdown",
   "id": "18eb2cd0-60a6-4a55-9e50-bfdc161bf23b",
   "metadata": {
    "tags": []
   },
   "source": [
    "#### Taxi Zone Lookup Dataset"
   ]
  },
  {
   "cell_type": "code",
   "execution_count": 9,
   "id": "94f28656-480e-4050-b8fd-a0b957574f66",
   "metadata": {
    "tags": []
   },
   "outputs": [],
   "source": [
    "zone_lookup_schema = StructType([\n",
    "    StructField(\"LocationID\", IntegerType(), True),\n",
    "    StructField(\"Borough\", StringType(), True),\n",
    "    StructField(\"Zone\", StringType(), True),\n",
    "    StructField(\"service_zone\", StringType(), True)\n",
    "])"
   ]
  },
  {
   "cell_type": "code",
   "execution_count": 10,
   "id": "ab01f942-44c4-486b-b1cc-383e948b0929",
   "metadata": {
    "tags": []
   },
   "outputs": [],
   "source": [
    "zone_lookup = spark.read\\\n",
    "                .option(\"header\", True)\\\n",
    "                .schema(zone_lookup_schema)\\\n",
    "                .csv(\"gs://iobruno-lakehouse-raw/nyc_trip_record_data/zone_lookup/taxi_zone_lookup.csv.gz\")"
   ]
  },
  {
   "cell_type": "code",
   "execution_count": 11,
   "id": "684712a1-7047-4044-8de8-e036ef147e08",
   "metadata": {},
   "outputs": [],
   "source": [
    "zone_lookup = zone_lookup.select(\n",
    "    col('LocationID').alias('location_id'),\n",
    "    col('Borough').alias('borough'),\n",
    "    col('Zone').alias('zone'),\n",
    "    col('service_zone')\n",
    ")"
   ]
  },
  {
   "cell_type": "code",
   "execution_count": 12,
   "id": "d56f412e-9a6c-4a8b-a05c-3b951480ed78",
   "metadata": {
    "tags": []
   },
   "outputs": [],
   "source": [
    "zone_lookup.createOrReplaceTempView(\"zones\")"
   ]
  },
  {
   "cell_type": "code",
   "execution_count": 13,
   "id": "b8f286bf",
   "metadata": {
    "collapsed": false,
    "jupyter": {
     "outputs_hidden": false
    },
    "tags": []
   },
   "outputs": [
    {
     "name": "stdout",
     "output_type": "stream",
     "text": [
      "root\n",
      " |-- location_id: integer (nullable = true)\n",
      " |-- borough: string (nullable = true)\n",
      " |-- zone: string (nullable = true)\n",
      " |-- service_zone: string (nullable = true)\n",
      "\n"
     ]
    }
   ],
   "source": [
    "zone_lookup.printSchema()"
   ]
  },
  {
   "cell_type": "markdown",
   "id": "768f63da-ec36-4bbf-ab72-815f16dbdf05",
   "metadata": {
    "tags": []
   },
   "source": [
    "### SparkSQL - Joining DataFrames"
   ]
  },
  {
   "cell_type": "code",
   "execution_count": 14,
   "id": "2d1f4417-a85e-446f-b93e-0407cc62f23c",
   "metadata": {
    "tags": []
   },
   "outputs": [],
   "source": [
    "sdf = spark.sql(\"\"\"    \n",
    "    SELECT \n",
    "        f.dispatching_base_num,\n",
    "        f.affiliated_base_num,\n",
    "\n",
    "        -- Pickup Data\n",
    "        f.pickup_datetime,\n",
    "        pu.zone as pickup_zone,\n",
    "        pu.service_zone as pickup_service_zone,\n",
    "        \n",
    "        -- Dropoff Data\n",
    "        f.dropoff_datetime,\n",
    "        do.zone as dropoff_zone,\n",
    "        do.service_zone as dropoff_service_zone\n",
    "    FROM \n",
    "        fhv f    \n",
    "    INNER JOIN \n",
    "        zones pu ON f.pickup_location_id  = pu.location_id\n",
    "    INNER JOIN \n",
    "        zones do ON f.dropoff_location_id = do.location_id\n",
    "\"\"\")"
   ]
  },
  {
   "cell_type": "code",
   "execution_count": 15,
   "id": "8f2d9c09-769d-430d-8410-5853866ab1a1",
   "metadata": {
    "tags": []
   },
   "outputs": [
    {
     "name": "stderr",
     "output_type": "stream",
     "text": [
      "                                                                                \r"
     ]
    },
    {
     "name": "stdout",
     "output_type": "stream",
     "text": [
      "+--------------------+-------------------+-------------------+-------------------------+-------------------+-------------------+-------------------------+--------------------+\n",
      "|dispatching_base_num|affiliated_base_num|    pickup_datetime|              pickup_zone|pickup_service_zone|   dropoff_datetime|             dropoff_zone|dropoff_service_zone|\n",
      "+--------------------+-------------------+-------------------+-------------------------+-------------------+-------------------+-------------------------+--------------------+\n",
      "|              B00254|             B02356|2019-01-01 00:33:03|          Lenox Hill East|        Yellow Zone|2019-01-01 01:37:24|              Cobble Hill|           Boro Zone|\n",
      "|              B00254|             B00254|2019-01-01 00:03:00|          Lenox Hill West|        Yellow Zone|2019-01-01 00:34:25|    Upper East Side South|         Yellow Zone|\n",
      "|              B00254|             B00254|2019-01-01 00:45:48|    Upper East Side South|        Yellow Zone|2019-01-01 01:26:01|    Upper East Side North|         Yellow Zone|\n",
      "|              B00254|             B00254|2019-01-01 00:37:39|             Midtown East|        Yellow Zone|2019-01-01 01:44:59|                  Erasmus|           Boro Zone|\n",
      "|              B00254|             B00254|2019-01-01 00:35:06|    Upper East Side South|        Yellow Zone|2019-01-01 01:30:21|West Chelsea/Hudson Yards|         Yellow Zone|\n",
      "|              B00254|             B02882|2019-01-01 00:55:23|Long Island City/Hunte...|          Boro Zone|2019-01-01 01:48:27|Stuy Town/Peter Cooper...|         Yellow Zone|\n",
      "|              B00254|             B02994|2019-01-01 00:49:23|       World Trade Center|        Yellow Zone|2019-01-01 01:38:38|                Bay Ridge|           Boro Zone|\n",
      "|              B00254|             B00254|2019-01-01 00:11:10|             Midtown East|        Yellow Zone|2019-01-01 00:44:31|      UN/Turtle Bay South|         Yellow Zone|\n",
      "|              B00254|             B00254|2019-01-01 00:00:06|        Battery Park City|        Yellow Zone|2019-01-01 00:32:21| Financial District North|         Yellow Zone|\n",
      "|              B00254|             B00254|2019-01-01 00:36:32|             West Village|        Yellow Zone|2019-01-01 01:35:54|    Upper East Side North|         Yellow Zone|\n",
      "+--------------------+-------------------+-------------------+-------------------------+-------------------+-------------------+-------------------------+--------------------+\n",
      "only showing top 10 rows\n",
      "\n"
     ]
    }
   ],
   "source": [
    "sdf.show(10, 25, False)"
   ]
  },
  {
   "cell_type": "markdown",
   "id": "62be46fa-28a8-4b99-b647-5bd2e7a74f04",
   "metadata": {},
   "source": [
    "### Spark DataFrame API - Joining DataFrames"
   ]
  },
  {
   "cell_type": "code",
   "execution_count": 16,
   "id": "1834d318-42be-489e-94fd-7c26268c9e61",
   "metadata": {
    "tags": []
   },
   "outputs": [],
   "source": [
    "df = fhv.alias(\"f\")\\\n",
    "        .join(zone_lookup.alias(\"pu\"), col(\"f.pickup_location_id\") == col(\"pu.location_id\"), how=\"inner\")\\\n",
    "        .join(zone_lookup.alias(\"do\"), col(\"f.pickup_location_id\") == col(\"do.location_id\"), how=\"inner\")\\\n",
    "        .select(\n",
    "            col(\"f.dispatching_base_num\"),\n",
    "            col(\"f.affiliated_base_num\"),\n",
    "\n",
    "            # Pickup Data\n",
    "            col(\"f.pickup_datetime\"),\n",
    "            col(\"pu.zone\").alias(\"pickup_zone\"),\n",
    "            col(\"pu.service_zone\").alias(\"pickup_service_zone\"),\n",
    "            \n",
    "            # Dropoff Data\n",
    "            col(\"f.dropoff_datetime\"),\n",
    "            col(\"do.zone\").alias(\"dropoff_zone\"),\n",
    "            col(\"do.service_zone\").alias(\"dropoff_service_zone\")                    \n",
    "        )"
   ]
  },
  {
   "cell_type": "code",
   "execution_count": 17,
   "id": "48b59579-1885-46a1-a3e9-61bfc8f2a530",
   "metadata": {
    "tags": []
   },
   "outputs": [
    {
     "name": "stderr",
     "output_type": "stream",
     "text": [
      "[Stage 4:>                                                          (0 + 1) / 1]\r"
     ]
    },
    {
     "name": "stdout",
     "output_type": "stream",
     "text": [
      "+--------------------+-------------------+-------------------+-------------------------+-------------------+-------------------+-------------------------+--------------------+\n",
      "|dispatching_base_num|affiliated_base_num|    pickup_datetime|              pickup_zone|pickup_service_zone|   dropoff_datetime|             dropoff_zone|dropoff_service_zone|\n",
      "+--------------------+-------------------+-------------------+-------------------------+-------------------+-------------------+-------------------------+--------------------+\n",
      "|              B00254|             B02356|2019-01-01 00:33:03|          Lenox Hill East|        Yellow Zone|2019-01-01 01:37:24|          Lenox Hill East|         Yellow Zone|\n",
      "|              B00254|             B00254|2019-01-01 00:03:00|          Lenox Hill West|        Yellow Zone|2019-01-01 00:34:25|          Lenox Hill West|         Yellow Zone|\n",
      "|              B00254|             B00254|2019-01-01 00:45:48|    Upper East Side South|        Yellow Zone|2019-01-01 01:26:01|    Upper East Side South|         Yellow Zone|\n",
      "|              B00254|             B00254|2019-01-01 00:37:39|             Midtown East|        Yellow Zone|2019-01-01 01:44:59|             Midtown East|         Yellow Zone|\n",
      "|              B00254|             B00254|2019-01-01 00:35:06|    Upper East Side South|        Yellow Zone|2019-01-01 01:30:21|    Upper East Side South|         Yellow Zone|\n",
      "|              B00254|             B02882|2019-01-01 00:55:23|Long Island City/Hunte...|          Boro Zone|2019-01-01 01:48:27|Long Island City/Hunte...|           Boro Zone|\n",
      "|              B00254|             B02994|2019-01-01 00:49:23|       World Trade Center|        Yellow Zone|2019-01-01 01:38:38|       World Trade Center|         Yellow Zone|\n",
      "|              B00254|             B00254|2019-01-01 00:11:10|             Midtown East|        Yellow Zone|2019-01-01 00:44:31|             Midtown East|         Yellow Zone|\n",
      "|              B00254|             B00254|2019-01-01 00:00:06|        Battery Park City|        Yellow Zone|2019-01-01 00:32:21|        Battery Park City|         Yellow Zone|\n",
      "|              B00254|             B00254|2019-01-01 00:36:32|             West Village|        Yellow Zone|2019-01-01 01:35:54|             West Village|         Yellow Zone|\n",
      "+--------------------+-------------------+-------------------+-------------------------+-------------------+-------------------+-------------------------+--------------------+\n",
      "only showing top 10 rows\n",
      "\n"
     ]
    },
    {
     "name": "stderr",
     "output_type": "stream",
     "text": [
      "                                                                                \r"
     ]
    }
   ],
   "source": [
    "df.show(10, 25, False)"
   ]
  },
  {
   "cell_type": "code",
   "execution_count": null,
   "id": "d175c3b2-1a9a-41c5-b511-b24cd60e2e7e",
   "metadata": {},
   "outputs": [],
   "source": []
  }
 ],
 "metadata": {
  "kernelspec": {
   "display_name": "Python 3 (ipykernel)",
   "language": "python",
   "name": "python3"
  },
  "language_info": {
   "codemirror_mode": {
    "name": "ipython",
    "version": 3
   },
   "file_extension": ".py",
   "mimetype": "text/x-python",
   "name": "python",
   "nbconvert_exporter": "python",
   "pygments_lexer": "ipython3",
   "version": "3.11.5"
  }
 },
 "nbformat": 4,
 "nbformat_minor": 5
}
