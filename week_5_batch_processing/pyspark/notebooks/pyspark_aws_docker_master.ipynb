{
 "cells": [
  {
   "cell_type": "code",
   "execution_count": 1,
   "id": "80675431-e2db-4ee0-805b-abd793a44393",
   "metadata": {
    "tags": []
   },
   "outputs": [],
   "source": [
    "from os import getenv, environ as env\n",
    "\n",
    "from pyspark.sql import SparkSession\n",
    "from pyspark.sql.functions import col\n",
    "from pyspark.sql.types import *\n",
    "from pyspark.conf import SparkConf"
   ]
  },
  {
   "cell_type": "code",
   "execution_count": 2,
   "id": "2f951576-5340-4c0d-a325-30c39c840c37",
   "metadata": {
    "tags": []
   },
   "outputs": [],
   "source": [
    "aws_access_key_id = getenv(\"AWS_ACCESS_KEY_ID\")\n",
    "aws_secret_access_key = getenv(\"AWS_SECRET_ACCESS_KEY\")"
   ]
  },
  {
   "cell_type": "markdown",
   "id": "e744c78f-3dc4-410d-b64c-0564de35298d",
   "metadata": {},
   "source": [
    "### Setup Spark Session"
   ]
  },
  {
   "cell_type": "code",
   "execution_count": 3,
   "id": "2fe3882c-0469-435f-8cce-81a529bf2baf",
   "metadata": {
    "tags": []
   },
   "outputs": [
    {
     "name": "stdout",
     "output_type": "stream",
     "text": [
      "23/05/22 01:45:03 WARN Utils: Your hostname, magi.local resolves to a loopback address: 127.0.0.1; using 192.168.15.29 instead (on interface en0)\n",
      "23/05/22 01:45:03 WARN Utils: Set SPARK_LOCAL_IP if you need to bind to another address\n"
     ]
    },
    {
     "name": "stderr",
     "output_type": "stream",
     "text": [
      "Setting default log level to \"WARN\".\n",
      "To adjust logging level use sc.setLogLevel(newLevel). For SparkR, use setLogLevel(newLevel).\n"
     ]
    },
    {
     "name": "stdout",
     "output_type": "stream",
     "text": [
      "23/05/22 01:45:03 WARN NativeCodeLoader: Unable to load native-hadoop library for your platform... using builtin-java classes where applicable\n",
      "23/05/22 01:45:04 WARN Utils: Service 'SparkUI' could not bind on port 4040. Attempting port 4041.\n",
      "23/05/22 01:45:04 WARN Utils: Service 'SparkUI' could not bind on port 4041. Attempting port 4042.\n"
     ]
    }
   ],
   "source": [
    "spark = (\n",
    "    SparkSession.builder\n",
    "        .master(\"spark://localhost:7077\")\n",
    "        .config(\"spark.sql.execution.arrow.pyspark.enabled\", \"true\")\n",
    "        .config(\"spark.driver.memory\", \"8g\")\n",
    "        .config(\"spark.executor.memory\", \"16g\")\n",
    "        .config(\"spark.cores.max\", 8)\n",
    "        .config(\"spark.hadoop.fs.s3a.access.key\", aws_access_key_id)\n",
    "        .config(\"spark.hadoop.fs.s3a.secret.key\", aws_secret_access_key)\n",
    "        .appName(\"pyspark_aws_docker_master\")\n",
    "        .getOrCreate()\n",
    ")"
   ]
  },
  {
   "cell_type": "code",
   "execution_count": 4,
   "id": "8ccc9323",
   "metadata": {
    "collapsed": false,
    "jupyter": {
     "outputs_hidden": false
    },
    "tags": []
   },
   "outputs": [],
   "source": [
    "spark.sparkContext.setLogLevel(\"ERROR\")"
   ]
  },
  {
   "cell_type": "markdown",
   "id": "a06a2003-84b2-48f1-9fc6-d19f61bab2c2",
   "metadata": {
    "tags": []
   },
   "source": [
    "## Load Datasets from AWS"
   ]
  },
  {
   "cell_type": "markdown",
   "id": "1f3f3210",
   "metadata": {},
   "source": [
    "#### FHV Dataset"
   ]
  },
  {
   "cell_type": "code",
   "execution_count": 5,
   "id": "6a9ade0a-da0f-4ef8-95a5-7d0a2eab60f5",
   "metadata": {
    "tags": []
   },
   "outputs": [
    {
     "name": "stderr",
     "output_type": "stream",
     "text": [
      "                                                                                \r"
     ]
    }
   ],
   "source": [
    "fhv_df = spark.read.parquet(\"s3a://iobruno-datalake-raw/dtc_ny_taxi_tripdata/fhv/fhv_tripdata_2019-01.snappy.parquet\")"
   ]
  },
  {
   "cell_type": "code",
   "execution_count": 6,
   "id": "b591e202-7839-47c1-9f52-746f6eb69beb",
   "metadata": {
    "tags": []
   },
   "outputs": [],
   "source": [
    "fhv_df.createOrReplaceTempView(\"fhv\")"
   ]
  },
  {
   "cell_type": "code",
   "execution_count": 7,
   "id": "996b51c4",
   "metadata": {
    "collapsed": false,
    "jupyter": {
     "outputs_hidden": false
    },
    "tags": []
   },
   "outputs": [
    {
     "name": "stdout",
     "output_type": "stream",
     "text": [
      "root\n",
      " |-- dispatching_base_num: string (nullable = true)\n",
      " |-- pickup_datetime: timestamp (nullable = true)\n",
      " |-- dropOff_datetime: timestamp (nullable = true)\n",
      " |-- PUlocationID: long (nullable = true)\n",
      " |-- DOlocationID: long (nullable = true)\n",
      " |-- SR_Flag: string (nullable = true)\n",
      " |-- Affiliated_base_number: string (nullable = true)\n",
      "\n"
     ]
    }
   ],
   "source": [
    "fhv_df.printSchema()"
   ]
  },
  {
   "cell_type": "markdown",
   "id": "18eb2cd0-60a6-4a55-9e50-bfdc161bf23b",
   "metadata": {
    "tags": []
   },
   "source": [
    "#### Taxi Zone Lookup Dataset"
   ]
  },
  {
   "cell_type": "code",
   "execution_count": 8,
   "id": "94f28656-480e-4050-b8fd-a0b957574f66",
   "metadata": {
    "tags": []
   },
   "outputs": [],
   "source": [
    "zone_lookup_schema = StructType([\n",
    "    StructField(\"LocationID\", IntegerType(), True),\n",
    "    StructField(\"Borough\", StringType(), True),\n",
    "    StructField(\"Zone\", StringType(), True),\n",
    "    StructField(\"service_zone\", StringType(), True)\n",
    "])"
   ]
  },
  {
   "cell_type": "code",
   "execution_count": 9,
   "id": "ab01f942-44c4-486b-b1cc-383e948b0929",
   "metadata": {
    "tags": []
   },
   "outputs": [],
   "source": [
    "zone_lookup_df = spark.read\\\n",
    "                    .option(\"header\", True)\\\n",
    "                    .schema(zone_lookup_schema)\\\n",
    "                    .csv(\"s3a://iobruno-datalake-raw/dtc_ny_taxi_tripdata/zone_lookup/taxi_zone_lookup.csv.gz\")"
   ]
  },
  {
   "cell_type": "code",
   "execution_count": 10,
   "id": "d56f412e-9a6c-4a8b-a05c-3b951480ed78",
   "metadata": {
    "tags": []
   },
   "outputs": [],
   "source": [
    "zone_lookup_df.createOrReplaceTempView(\"zones\")"
   ]
  },
  {
   "cell_type": "code",
   "execution_count": 11,
   "id": "b8f286bf",
   "metadata": {
    "collapsed": false,
    "jupyter": {
     "outputs_hidden": false
    },
    "tags": []
   },
   "outputs": [
    {
     "name": "stdout",
     "output_type": "stream",
     "text": [
      "root\n",
      " |-- LocationID: integer (nullable = true)\n",
      " |-- Borough: string (nullable = true)\n",
      " |-- Zone: string (nullable = true)\n",
      " |-- service_zone: string (nullable = true)\n",
      "\n"
     ]
    }
   ],
   "source": [
    "zone_lookup_df.printSchema()"
   ]
  },
  {
   "cell_type": "markdown",
   "id": "768f63da-ec36-4bbf-ab72-815f16dbdf05",
   "metadata": {
    "tags": []
   },
   "source": [
    "### SparkSQL - Joining DataFrames"
   ]
  },
  {
   "cell_type": "code",
   "execution_count": 12,
   "id": "2d1f4417-a85e-446f-b93e-0407cc62f23c",
   "metadata": {
    "tags": []
   },
   "outputs": [],
   "source": [
    "sdf = spark.sql(\"\"\"\n",
    "    WITH t_fhv AS (\n",
    "        SELECT\n",
    "            dispatching_base_num, \n",
    "            Affiliated_base_number as affiliated_base_num,\n",
    "            pickup_datetime,\n",
    "            dropOff_datetime as dropoff_datetime,\n",
    "            PUlocationID as pickup_location_id,\n",
    "            DOlocationID as dropoff_location_id\n",
    "        FROM \n",
    "            fhv\n",
    "    ),\n",
    "    \n",
    "    t_zones AS (\n",
    "        SELECT\n",
    "            LocationID as location_id,\n",
    "            Borough as borough,\n",
    "            Zone as zone,\n",
    "            service_zone\n",
    "        FROM \n",
    "            zones        \n",
    "    )    \n",
    "    \n",
    "    SELECT \n",
    "        f.dispatching_base_num,\n",
    "        f.affiliated_base_num,\n",
    "\n",
    "        -- Pickup Data\n",
    "        f.pickup_datetime,\n",
    "        pu.zone as pickup_zone,\n",
    "        pu.service_zone as pickup_service_zone,\n",
    "        \n",
    "        -- Dropoff Data\n",
    "        f.dropoff_datetime,\n",
    "        do.zone as dropoff_zone,\n",
    "        do.service_zone as dropoff_service_zone\n",
    "    FROM \n",
    "        t_fhv f    \n",
    "    INNER JOIN \n",
    "        t_zones pu ON f.pickup_location_id  = pu.location_id\n",
    "    INNER JOIN \n",
    "        t_zones do ON f.dropoff_location_id = do.location_id\n",
    "\"\"\")"
   ]
  },
  {
   "cell_type": "code",
   "execution_count": 13,
   "id": "8f2d9c09-769d-430d-8410-5853866ab1a1",
   "metadata": {
    "tags": []
   },
   "outputs": [
    {
     "name": "stderr",
     "output_type": "stream",
     "text": [
      "[Stage 3:=======================================>                   (2 + 1) / 3]\r"
     ]
    },
    {
     "name": "stdout",
     "output_type": "stream",
     "text": [
      "+--------------------+-------------------+-------------------+-------------------------+-------------------+-------------------+-------------------------+--------------------+\n",
      "|dispatching_base_num|affiliated_base_num|    pickup_datetime|              pickup_zone|pickup_service_zone|   dropoff_datetime|             dropoff_zone|dropoff_service_zone|\n",
      "+--------------------+-------------------+-------------------+-------------------------+-------------------+-------------------+-------------------------+--------------------+\n",
      "|              B00254|             B02356|2018-12-31 22:33:03|          Lenox Hill East|        Yellow Zone|2018-12-31 23:37:24|              Cobble Hill|           Boro Zone|\n",
      "|              B00254|             B00254|2018-12-31 22:03:00|          Lenox Hill West|        Yellow Zone|2018-12-31 22:34:25|    Upper East Side South|         Yellow Zone|\n",
      "|              B00254|             B00254|2018-12-31 22:45:48|    Upper East Side South|        Yellow Zone|2018-12-31 23:26:01|    Upper East Side North|         Yellow Zone|\n",
      "|              B00254|             B00254|2018-12-31 22:37:39|             Midtown East|        Yellow Zone|2018-12-31 23:44:59|                  Erasmus|           Boro Zone|\n",
      "|              B00254|             B00254|2018-12-31 22:35:06|    Upper East Side South|        Yellow Zone|2018-12-31 23:30:21|West Chelsea/Hudson Yards|         Yellow Zone|\n",
      "|              B00254|             B02882|2018-12-31 22:55:23|Long Island City/Hunte...|          Boro Zone|2018-12-31 23:48:27|Stuy Town/Peter Cooper...|         Yellow Zone|\n",
      "|              B00254|             B02994|2018-12-31 22:49:23|       World Trade Center|        Yellow Zone|2018-12-31 23:38:38|                Bay Ridge|           Boro Zone|\n",
      "|              B00254|             B00254|2018-12-31 22:11:10|             Midtown East|        Yellow Zone|2018-12-31 22:44:31|      UN/Turtle Bay South|         Yellow Zone|\n",
      "|              B00254|             B00254|2018-12-31 22:00:06|        Battery Park City|        Yellow Zone|2018-12-31 22:32:21| Financial District North|         Yellow Zone|\n",
      "|              B00254|             B00254|2018-12-31 22:36:32|             West Village|        Yellow Zone|2018-12-31 23:35:54|    Upper East Side North|         Yellow Zone|\n",
      "+--------------------+-------------------+-------------------+-------------------------+-------------------+-------------------+-------------------------+--------------------+\n",
      "only showing top 10 rows\n",
      "\n"
     ]
    },
    {
     "name": "stderr",
     "output_type": "stream",
     "text": [
      "                                                                                \r"
     ]
    }
   ],
   "source": [
    "sdf.show(10, 25, False)"
   ]
  },
  {
   "cell_type": "markdown",
   "id": "62be46fa-28a8-4b99-b647-5bd2e7a74f04",
   "metadata": {},
   "source": [
    "### Spark DataFrame API - Joining DataFrames"
   ]
  },
  {
   "cell_type": "code",
   "execution_count": 14,
   "id": "dbb6eced-4aa7-40db-89ea-b217004c2d46",
   "metadata": {
    "tags": []
   },
   "outputs": [],
   "source": [
    "fhv = fhv_df.select(\n",
    "    col(\"dispatching_base_num\"),\n",
    "    col(\"Affiliated_base_number\").alias(\"affiliated_base_num\"),\n",
    "    col(\"pickup_datetime\"),\n",
    "    col(\"dropOff_datetime\").alias(\"dropoff_datetime\"),\n",
    "    col(\"PUlocationID\").alias(\"pickup_location_id\"),\n",
    "    col(\"DOlocationID\").alias(\"dropoff_location_id\")\n",
    ")"
   ]
  },
  {
   "cell_type": "code",
   "execution_count": 15,
   "id": "ddaa68d0-bb6a-4fd1-8b89-057d8fc661c4",
   "metadata": {
    "tags": []
   },
   "outputs": [],
   "source": [
    "zone_lookup = zone_lookup_df.select(\n",
    "    col(\"LocationID\").alias(\"location_id\"),\n",
    "    col(\"Borough\").alias(\"borough\"),\n",
    "    col(\"Zone\").alias(\"zone\"),\n",
    "    col(\"service_zone\")\n",
    ")"
   ]
  },
  {
   "cell_type": "code",
   "execution_count": 16,
   "id": "1834d318-42be-489e-94fd-7c26268c9e61",
   "metadata": {
    "tags": []
   },
   "outputs": [],
   "source": [
    "df = fhv.alias(\"f\")\\\n",
    "        .join(zone_lookup.alias(\"pu\"), col(\"f.pickup_location_id\") == col(\"pu.location_id\"), how=\"inner\")\\\n",
    "        .join(zone_lookup.alias(\"do\"), col(\"f.pickup_location_id\") == col(\"do.location_id\"), how=\"inner\")\\\n",
    "        .select(\n",
    "            col(\"f.dispatching_base_num\"),\n",
    "            col(\"f.affiliated_base_num\"),\n",
    "\n",
    "            # Pickup Data\n",
    "            col(\"f.pickup_datetime\"),\n",
    "            col(\"pu.zone\").alias(\"pickup_zone\"),\n",
    "            col(\"pu.service_zone\").alias(\"pickup_service_zone\"),\n",
    "            \n",
    "            # Dropoff Data\n",
    "            col(\"f.dropoff_datetime\"),\n",
    "            col(\"do.zone\").alias(\"dropoff_zone\"),\n",
    "            col(\"do.service_zone\").alias(\"dropoff_service_zone\")                    \n",
    "        )"
   ]
  },
  {
   "cell_type": "code",
   "execution_count": 17,
   "id": "48b59579-1885-46a1-a3e9-61bfc8f2a530",
   "metadata": {
    "tags": []
   },
   "outputs": [
    {
     "name": "stderr",
     "output_type": "stream",
     "text": [
      "[Stage 6:=======================================>                   (2 + 1) / 3]\r"
     ]
    },
    {
     "name": "stdout",
     "output_type": "stream",
     "text": [
      "+--------------------+-------------------+-------------------+-------------------------+-------------------+-------------------+-------------------------+--------------------+\n",
      "|dispatching_base_num|affiliated_base_num|    pickup_datetime|              pickup_zone|pickup_service_zone|   dropoff_datetime|             dropoff_zone|dropoff_service_zone|\n",
      "+--------------------+-------------------+-------------------+-------------------------+-------------------+-------------------+-------------------------+--------------------+\n",
      "|              B00254|             B02356|2018-12-31 22:33:03|          Lenox Hill East|        Yellow Zone|2018-12-31 23:37:24|          Lenox Hill East|         Yellow Zone|\n",
      "|              B00254|             B00254|2018-12-31 22:03:00|          Lenox Hill West|        Yellow Zone|2018-12-31 22:34:25|          Lenox Hill West|         Yellow Zone|\n",
      "|              B00254|             B00254|2018-12-31 22:45:48|    Upper East Side South|        Yellow Zone|2018-12-31 23:26:01|    Upper East Side South|         Yellow Zone|\n",
      "|              B00254|             B00254|2018-12-31 22:37:39|             Midtown East|        Yellow Zone|2018-12-31 23:44:59|             Midtown East|         Yellow Zone|\n",
      "|              B00254|             B00254|2018-12-31 22:35:06|    Upper East Side South|        Yellow Zone|2018-12-31 23:30:21|    Upper East Side South|         Yellow Zone|\n",
      "|              B00254|             B02882|2018-12-31 22:55:23|Long Island City/Hunte...|          Boro Zone|2018-12-31 23:48:27|Long Island City/Hunte...|           Boro Zone|\n",
      "|              B00254|             B02994|2018-12-31 22:49:23|       World Trade Center|        Yellow Zone|2018-12-31 23:38:38|       World Trade Center|         Yellow Zone|\n",
      "|              B00254|             B00254|2018-12-31 22:11:10|             Midtown East|        Yellow Zone|2018-12-31 22:44:31|             Midtown East|         Yellow Zone|\n",
      "|              B00254|             B00254|2018-12-31 22:00:06|        Battery Park City|        Yellow Zone|2018-12-31 22:32:21|        Battery Park City|         Yellow Zone|\n",
      "|              B00254|             B00254|2018-12-31 22:36:32|             West Village|        Yellow Zone|2018-12-31 23:35:54|             West Village|         Yellow Zone|\n",
      "+--------------------+-------------------+-------------------+-------------------------+-------------------+-------------------+-------------------------+--------------------+\n",
      "only showing top 10 rows\n",
      "\n"
     ]
    },
    {
     "name": "stderr",
     "output_type": "stream",
     "text": [
      "                                                                                \r"
     ]
    }
   ],
   "source": [
    "df.show(10, 25, False)"
   ]
  },
  {
   "cell_type": "code",
   "execution_count": null,
   "id": "d175c3b2-1a9a-41c5-b511-b24cd60e2e7e",
   "metadata": {},
   "outputs": [],
   "source": []
  }
 ],
 "metadata": {
  "kernelspec": {
   "display_name": "Python 3 (ipykernel)",
   "language": "python",
   "name": "python3"
  },
  "language_info": {
   "codemirror_mode": {
    "name": "ipython",
    "version": 3
   },
   "file_extension": ".py",
   "mimetype": "text/x-python",
   "name": "python",
   "nbconvert_exporter": "python",
   "pygments_lexer": "ipython3",
   "version": "3.10.11"
  }
 },
 "nbformat": 4,
 "nbformat_minor": 5
}
