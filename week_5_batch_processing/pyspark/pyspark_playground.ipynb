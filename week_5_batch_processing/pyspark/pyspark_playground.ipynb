{
 "cells": [
  {
   "cell_type": "code",
   "execution_count": 1,
   "id": "80675431-e2db-4ee0-805b-abd793a44393",
   "metadata": {
    "tags": []
   },
   "outputs": [],
   "source": [
    "from os import environ as env\n",
    "\n",
    "from pyspark.sql import SparkSession\n",
    "from pyspark.sql.types import *"
   ]
  },
  {
   "cell_type": "code",
   "execution_count": 2,
   "id": "fdbffc77",
   "metadata": {
    "collapsed": false,
    "jupyter": {
     "outputs_hidden": false
    },
    "tags": []
   },
   "outputs": [],
   "source": [
    "env[\"GOOGLE_APPLICATION_CREDENTIALS\"] = \"/Users/iobruno/Vault/credentials/iobruno-training-gcp_terraform-admin.json\""
   ]
  },
  {
   "cell_type": "markdown",
   "id": "e744c78f-3dc4-410d-b64c-0564de35298d",
   "metadata": {},
   "source": [
    "### Setup Spark Session"
   ]
  },
  {
   "cell_type": "code",
   "execution_count": 3,
   "id": "2fe3882c-0469-435f-8cce-81a529bf2baf",
   "metadata": {
    "tags": []
   },
   "outputs": [
    {
     "name": "stderr",
     "output_type": "stream",
     "text": [
      "Setting default log level to \"WARN\".\n",
      "To adjust logging level use sc.setLogLevel(newLevel). For SparkR, use setLogLevel(newLevel).\n"
     ]
    },
    {
     "name": "stdout",
     "output_type": "stream",
     "text": [
      "23/03/03 02:28:12 WARN NativeCodeLoader: Unable to load native-hadoop library for your platform... using builtin-java classes where applicable\n"
     ]
    }
   ],
   "source": [
    "spark = SparkSession.builder\\\n",
    "            .master(\"local[*]\")\\\n",
    "            .config(\"spark.sql.execution.arrow.pyspark.enabled\", \"true\") \\\n",
    "            .config(\"spark.driver.memory\", \"2g\")\\\n",
    "            .config(\"spark.executor.memory\", \"8g\")\\\n",
    "            .config(\"spark.cores.max\", 8) \\\n",
    "            .appName(\"pyspark-playground\")\\\n",
    "            .getOrCreate()"
   ]
  },
  {
   "cell_type": "code",
   "execution_count": 4,
   "id": "8ccc9323",
   "metadata": {
    "collapsed": false,
    "jupyter": {
     "outputs_hidden": false
    },
    "tags": []
   },
   "outputs": [],
   "source": [
    "spark.sparkContext.setLogLevel(\"ERROR\")"
   ]
  },
  {
   "cell_type": "code",
   "execution_count": 5,
   "id": "2f56e586",
   "metadata": {
    "collapsed": false,
    "jupyter": {
     "outputs_hidden": false
    },
    "tags": []
   },
   "outputs": [],
   "source": [
    "spark._jsc\\\n",
    "    .hadoopConfiguration() \\\n",
    "    .set(\"google.cloud.auth.service.account.json.keyfile\", env[\"GOOGLE_APPLICATION_CREDENTIALS\"])"
   ]
  },
  {
   "cell_type": "markdown",
   "id": "a06a2003-84b2-48f1-9fc6-d19f61bab2c2",
   "metadata": {
    "tags": []
   },
   "source": [
    "## Load Datasets from GCS"
   ]
  },
  {
   "cell_type": "markdown",
   "id": "1f3f3210",
   "metadata": {},
   "source": [
    "#### FHV Dataset"
   ]
  },
  {
   "cell_type": "code",
   "execution_count": 6,
   "id": "6a9ade0a-da0f-4ef8-95a5-7d0a2eab60f5",
   "metadata": {
    "tags": []
   },
   "outputs": [
    {
     "name": "stderr",
     "output_type": "stream",
     "text": [
      "                                                                                \r"
     ]
    }
   ],
   "source": [
    "fhv_df = spark.read\\\n",
    "            .parquet(\"gs://iobruno_datalake_raw/dtc_ny_taxi_tripdata/fhv/fhv_tripdata_2019-01.parquet.snappy\")"
   ]
  },
  {
   "cell_type": "code",
   "execution_count": 7,
   "id": "b591e202-7839-47c1-9f52-746f6eb69beb",
   "metadata": {
    "tags": []
   },
   "outputs": [],
   "source": [
    "fhv_df.createOrReplaceTempView(\"fhv\")"
   ]
  },
  {
   "cell_type": "code",
   "execution_count": 8,
   "id": "996b51c4",
   "metadata": {
    "collapsed": false,
    "jupyter": {
     "outputs_hidden": false
    },
    "tags": []
   },
   "outputs": [
    {
     "name": "stdout",
     "output_type": "stream",
     "text": [
      "root\n",
      " |-- dispatching_base_num: string (nullable = true)\n",
      " |-- pickup_datetime: timestamp (nullable = true)\n",
      " |-- dropOff_datetime: timestamp (nullable = true)\n",
      " |-- PUlocationID: long (nullable = true)\n",
      " |-- DOlocationID: long (nullable = true)\n",
      " |-- SR_Flag: long (nullable = true)\n",
      " |-- Affiliated_base_number: string (nullable = true)\n",
      "\n"
     ]
    }
   ],
   "source": [
    "fhv_df.printSchema()"
   ]
  },
  {
   "cell_type": "markdown",
   "id": "18eb2cd0-60a6-4a55-9e50-bfdc161bf23b",
   "metadata": {},
   "source": [
    "#### Taxi Zone Lookup Dataset"
   ]
  },
  {
   "cell_type": "code",
   "execution_count": 9,
   "id": "94f28656-480e-4050-b8fd-a0b957574f66",
   "metadata": {
    "tags": []
   },
   "outputs": [],
   "source": [
    "zone_lookup_schema = StructType([\n",
    "    StructField(\"LocationID\", IntegerType(), True),\n",
    "    StructField(\"Borough\", StringType(), True),\n",
    "    StructField(\"Zone\", StringType(), True),\n",
    "    StructField(\"service_zone\", StringType(), True)\n",
    "])"
   ]
  },
  {
   "cell_type": "code",
   "execution_count": 10,
   "id": "ab01f942-44c4-486b-b1cc-383e948b0929",
   "metadata": {
    "tags": []
   },
   "outputs": [],
   "source": [
    "zone_lookup_df = spark.read\\\n",
    "                    .option(\"header\", True)\\\n",
    "                    .schema(zone_lookup_schema)\\\n",
    "                    .csv(\"gs://iobruno_datalake_raw/dtc_ny_taxi_tripdata/zone_lookup/taxi_zone_lookup.csv\")"
   ]
  },
  {
   "cell_type": "code",
   "execution_count": 11,
   "id": "d56f412e-9a6c-4a8b-a05c-3b951480ed78",
   "metadata": {
    "tags": []
   },
   "outputs": [],
   "source": [
    "zone_lookup_df.createOrReplaceTempView(\"zones\")"
   ]
  },
  {
   "cell_type": "code",
   "execution_count": 12,
   "id": "b8f286bf",
   "metadata": {
    "collapsed": false,
    "jupyter": {
     "outputs_hidden": false
    },
    "tags": []
   },
   "outputs": [
    {
     "name": "stdout",
     "output_type": "stream",
     "text": [
      "root\n",
      " |-- LocationID: integer (nullable = true)\n",
      " |-- Borough: string (nullable = true)\n",
      " |-- Zone: string (nullable = true)\n",
      " |-- service_zone: string (nullable = true)\n",
      "\n"
     ]
    }
   ],
   "source": [
    "zone_lookup_df.printSchema()"
   ]
  },
  {
   "cell_type": "markdown",
   "id": "768f63da-ec36-4bbf-ab72-815f16dbdf05",
   "metadata": {},
   "source": [
    "### SparkSQL - Joining DataFrames"
   ]
  },
  {
   "cell_type": "code",
   "execution_count": 13,
   "id": "2d1f4417-a85e-446f-b93e-0407cc62f23c",
   "metadata": {
    "tags": []
   },
   "outputs": [],
   "source": [
    "df = spark.sql(\"\"\"\n",
    "    WITH t_fhv AS (\n",
    "        SELECT\n",
    "            dispatching_base_num, \n",
    "            Affiliated_base_number as affiliated_base_num,\n",
    "            pickup_datetime,\n",
    "            dropOff_datetime as dropoff_datetime,\n",
    "            PUlocationID as pickup_location_id,\n",
    "            DOlocationID as dropoff_location_id\n",
    "        FROM fhv\n",
    "    ),\n",
    "    \n",
    "    t_zones AS (\n",
    "        SELECT\n",
    "            LocationID as location_id,\n",
    "            Borough as borough,\n",
    "            Zone as zone,\n",
    "            service_zone as service_zone                \n",
    "        FROM zones        \n",
    "    )    \n",
    "    \n",
    "    SELECT \n",
    "        f.dispatching_base_num,\n",
    "        f.affiliated_base_num,\n",
    "\n",
    "        -- Pickup Location\n",
    "        f.pickup_datetime,\n",
    "        pu.zone as pickup_zone,\n",
    "        pu.service_zone as pickup_service_zone,\n",
    "        \n",
    "        -- Dropoff Location\n",
    "        f.dropoff_location_id,\n",
    "        do.zone as dropoff_zone,\n",
    "        do.service_zone as dropoff_service_zone\n",
    "                \n",
    "    FROM t_fhv f    \n",
    "    INNER JOIN t_zones pu ON f.pickup_location_id  = pu.location_id\n",
    "    INNER JOIN t_zones do ON f.dropoff_location_id = do.location_id\n",
    "\"\"\")"
   ]
  },
  {
   "cell_type": "code",
   "execution_count": 14,
   "id": "8f2d9c09-769d-430d-8410-5853866ab1a1",
   "metadata": {
    "tags": []
   },
   "outputs": [
    {
     "name": "stderr",
     "output_type": "stream",
     "text": [
      "[Stage 3:============================================>              (3 + 1) / 4]\r"
     ]
    },
    {
     "name": "stdout",
     "output_type": "stream",
     "text": [
      "-RECORD 0-------------------------------------\n",
      " dispatching_base_num | B00254                \n",
      " affiliated_base_num  | B02356                \n",
      " pickup_datetime      | 2018-12-31 22:33:03   \n",
      " pickup_zone          | Lenox Hill East       \n",
      " pickup_service_zone  | Yellow Zone           \n",
      " dropoff_location_id  | 52                    \n",
      " dropoff_zone         | Cobble Hill           \n",
      " dropoff_service_zone | Boro Zone             \n",
      "-RECORD 1-------------------------------------\n",
      " dispatching_base_num | B00254                \n",
      " affiliated_base_num  | B00254                \n",
      " pickup_datetime      | 2018-12-31 22:03:00   \n",
      " pickup_zone          | Lenox Hill West       \n",
      " pickup_service_zone  | Yellow Zone           \n",
      " dropoff_location_id  | 237                   \n",
      " dropoff_zone         | Upper East Side South \n",
      " dropoff_service_zone | Yellow Zone           \n",
      "-RECORD 2-------------------------------------\n",
      " dispatching_base_num | B00254                \n",
      " affiliated_base_num  | B00254                \n",
      " pickup_datetime      | 2018-12-31 22:45:48   \n",
      " pickup_zone          | Upper East Side South \n",
      " pickup_service_zone  | Yellow Zone           \n",
      " dropoff_location_id  | 236                   \n",
      " dropoff_zone         | Upper East Side North \n",
      " dropoff_service_zone | Yellow Zone           \n",
      "-RECORD 3-------------------------------------\n",
      " dispatching_base_num | B00254                \n",
      " affiliated_base_num  | B00254                \n",
      " pickup_datetime      | 2018-12-31 22:37:39   \n",
      " pickup_zone          | Midtown East          \n",
      " pickup_service_zone  | Yellow Zone           \n",
      " dropoff_location_id  | 85                    \n",
      " dropoff_zone         | Erasmus               \n",
      " dropoff_service_zone | Boro Zone             \n",
      "only showing top 4 rows\n",
      "\n"
     ]
    },
    {
     "name": "stderr",
     "output_type": "stream",
     "text": [
      "                                                                                \r"
     ]
    }
   ],
   "source": [
    "df.show(4, 100, True)"
   ]
  },
  {
   "cell_type": "code",
   "execution_count": 15,
   "id": "f5ec5d28-fd81-4232-94c5-1524927ead0b",
   "metadata": {
    "tags": []
   },
   "outputs": [
    {
     "name": "stdout",
     "output_type": "stream",
     "text": [
      "root\n",
      " |-- dispatching_base_num: string (nullable = true)\n",
      " |-- affiliated_base_num: string (nullable = true)\n",
      " |-- pickup_datetime: timestamp (nullable = true)\n",
      " |-- pickup_zone: string (nullable = true)\n",
      " |-- pickup_service_zone: string (nullable = true)\n",
      " |-- dropoff_location_id: long (nullable = true)\n",
      " |-- dropoff_zone: string (nullable = true)\n",
      " |-- dropoff_service_zone: string (nullable = true)\n",
      "\n"
     ]
    }
   ],
   "source": [
    "df.printSchema()"
   ]
  },
  {
   "cell_type": "code",
   "execution_count": null,
   "id": "116c2b98-35df-4358-885f-7c26333851c7",
   "metadata": {},
   "outputs": [],
   "source": []
  }
 ],
 "metadata": {
  "kernelspec": {
   "display_name": "Python 3 (ipykernel)",
   "language": "python",
   "name": "python3"
  },
  "language_info": {
   "codemirror_mode": {
    "name": "ipython",
    "version": 3
   },
   "file_extension": ".py",
   "mimetype": "text/x-python",
   "name": "python",
   "nbconvert_exporter": "python",
   "pygments_lexer": "ipython3",
   "version": "3.9.16"
  }
 },
 "nbformat": 4,
 "nbformat_minor": 5
}
